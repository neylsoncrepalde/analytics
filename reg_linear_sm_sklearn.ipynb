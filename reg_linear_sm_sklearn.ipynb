{
 "cells": [
  {
   "cell_type": "markdown",
   "metadata": {},
   "source": [
    "# Linear Regression\n",
    "\n",
    "### Prof. Dr. Neylson Crepalde\n",
    "\n",
    "Vamos testar a estimação de uma regressão linear com duas bibliotecas famosas do Python: StatsModels (mais orientada a análise estatística e Sci-Kit Learn (mais orientada a modelos preditivos). Vamos lá."
   ]
  },
  {
   "cell_type": "code",
   "execution_count": 2,
   "metadata": {},
   "outputs": [],
   "source": [
    "import pandas as pd\n",
    "import numpy as np\n",
    "import matplotlib.pyplot as plt \n",
    "import statsmodels.formula.api as sm\n",
    "%matplotlib inline"
   ]
  },
  {
   "cell_type": "code",
   "execution_count": 3,
   "metadata": {},
   "outputs": [
    {
     "data": {
      "text/html": [
       "<div>\n",
       "<style scoped>\n",
       "    .dataframe tbody tr th:only-of-type {\n",
       "        vertical-align: middle;\n",
       "    }\n",
       "\n",
       "    .dataframe tbody tr th {\n",
       "        vertical-align: top;\n",
       "    }\n",
       "\n",
       "    .dataframe thead th {\n",
       "        text-align: right;\n",
       "    }\n",
       "</style>\n",
       "<table border=\"1\" class=\"dataframe\">\n",
       "  <thead>\n",
       "    <tr style=\"text-align: right;\">\n",
       "      <th></th>\n",
       "      <th>wage</th>\n",
       "      <th>educ</th>\n",
       "      <th>exper</th>\n",
       "      <th>tenure</th>\n",
       "      <th>nonwhite</th>\n",
       "      <th>female</th>\n",
       "      <th>married</th>\n",
       "      <th>numdep</th>\n",
       "      <th>smsa</th>\n",
       "      <th>northcen</th>\n",
       "      <th>...</th>\n",
       "      <th>trcommpu</th>\n",
       "      <th>trade</th>\n",
       "      <th>services</th>\n",
       "      <th>profserv</th>\n",
       "      <th>profocc</th>\n",
       "      <th>clerocc</th>\n",
       "      <th>servocc</th>\n",
       "      <th>lwage</th>\n",
       "      <th>expersq</th>\n",
       "      <th>tenursq</th>\n",
       "    </tr>\n",
       "  </thead>\n",
       "  <tbody>\n",
       "    <tr>\n",
       "      <td>0</td>\n",
       "      <td>3.10</td>\n",
       "      <td>11</td>\n",
       "      <td>2</td>\n",
       "      <td>0</td>\n",
       "      <td>0</td>\n",
       "      <td>1</td>\n",
       "      <td>0</td>\n",
       "      <td>2</td>\n",
       "      <td>1</td>\n",
       "      <td>0</td>\n",
       "      <td>...</td>\n",
       "      <td>0</td>\n",
       "      <td>0</td>\n",
       "      <td>0</td>\n",
       "      <td>0</td>\n",
       "      <td>0</td>\n",
       "      <td>0</td>\n",
       "      <td>0</td>\n",
       "      <td>1.131402</td>\n",
       "      <td>4</td>\n",
       "      <td>0</td>\n",
       "    </tr>\n",
       "    <tr>\n",
       "      <td>1</td>\n",
       "      <td>3.24</td>\n",
       "      <td>12</td>\n",
       "      <td>22</td>\n",
       "      <td>2</td>\n",
       "      <td>0</td>\n",
       "      <td>1</td>\n",
       "      <td>1</td>\n",
       "      <td>3</td>\n",
       "      <td>1</td>\n",
       "      <td>0</td>\n",
       "      <td>...</td>\n",
       "      <td>0</td>\n",
       "      <td>0</td>\n",
       "      <td>1</td>\n",
       "      <td>0</td>\n",
       "      <td>0</td>\n",
       "      <td>0</td>\n",
       "      <td>1</td>\n",
       "      <td>1.175573</td>\n",
       "      <td>484</td>\n",
       "      <td>4</td>\n",
       "    </tr>\n",
       "    <tr>\n",
       "      <td>2</td>\n",
       "      <td>3.00</td>\n",
       "      <td>11</td>\n",
       "      <td>2</td>\n",
       "      <td>0</td>\n",
       "      <td>0</td>\n",
       "      <td>0</td>\n",
       "      <td>0</td>\n",
       "      <td>2</td>\n",
       "      <td>0</td>\n",
       "      <td>0</td>\n",
       "      <td>...</td>\n",
       "      <td>0</td>\n",
       "      <td>1</td>\n",
       "      <td>0</td>\n",
       "      <td>0</td>\n",
       "      <td>0</td>\n",
       "      <td>0</td>\n",
       "      <td>0</td>\n",
       "      <td>1.098612</td>\n",
       "      <td>4</td>\n",
       "      <td>0</td>\n",
       "    </tr>\n",
       "    <tr>\n",
       "      <td>3</td>\n",
       "      <td>6.00</td>\n",
       "      <td>8</td>\n",
       "      <td>44</td>\n",
       "      <td>28</td>\n",
       "      <td>0</td>\n",
       "      <td>0</td>\n",
       "      <td>1</td>\n",
       "      <td>0</td>\n",
       "      <td>1</td>\n",
       "      <td>0</td>\n",
       "      <td>...</td>\n",
       "      <td>0</td>\n",
       "      <td>0</td>\n",
       "      <td>0</td>\n",
       "      <td>0</td>\n",
       "      <td>0</td>\n",
       "      <td>1</td>\n",
       "      <td>0</td>\n",
       "      <td>1.791759</td>\n",
       "      <td>1936</td>\n",
       "      <td>784</td>\n",
       "    </tr>\n",
       "    <tr>\n",
       "      <td>4</td>\n",
       "      <td>5.30</td>\n",
       "      <td>12</td>\n",
       "      <td>7</td>\n",
       "      <td>2</td>\n",
       "      <td>0</td>\n",
       "      <td>0</td>\n",
       "      <td>1</td>\n",
       "      <td>1</td>\n",
       "      <td>0</td>\n",
       "      <td>0</td>\n",
       "      <td>...</td>\n",
       "      <td>0</td>\n",
       "      <td>0</td>\n",
       "      <td>0</td>\n",
       "      <td>0</td>\n",
       "      <td>0</td>\n",
       "      <td>0</td>\n",
       "      <td>0</td>\n",
       "      <td>1.667707</td>\n",
       "      <td>49</td>\n",
       "      <td>4</td>\n",
       "    </tr>\n",
       "  </tbody>\n",
       "</table>\n",
       "<p>5 rows × 24 columns</p>\n",
       "</div>"
      ],
      "text/plain": [
       "   wage  educ  exper  tenure  nonwhite  female  married  numdep  smsa  \\\n",
       "0  3.10    11      2       0         0       1        0       2     1   \n",
       "1  3.24    12     22       2         0       1        1       3     1   \n",
       "2  3.00    11      2       0         0       0        0       2     0   \n",
       "3  6.00     8     44      28         0       0        1       0     1   \n",
       "4  5.30    12      7       2         0       0        1       1     0   \n",
       "\n",
       "   northcen  ...  trcommpu  trade  services  profserv  profocc  clerocc  \\\n",
       "0         0  ...         0      0         0         0        0        0   \n",
       "1         0  ...         0      0         1         0        0        0   \n",
       "2         0  ...         0      1         0         0        0        0   \n",
       "3         0  ...         0      0         0         0        0        1   \n",
       "4         0  ...         0      0         0         0        0        0   \n",
       "\n",
       "   servocc     lwage  expersq  tenursq  \n",
       "0        0  1.131402        4        0  \n",
       "1        1  1.175573      484        4  \n",
       "2        0  1.098612        4        0  \n",
       "3        0  1.791759     1936      784  \n",
       "4        0  1.667707       49        4  \n",
       "\n",
       "[5 rows x 24 columns]"
      ]
     },
     "execution_count": 3,
     "metadata": {},
     "output_type": "execute_result"
    }
   ],
   "source": [
    "bd = pd.read_csv(\"https://github.com/neylsoncrepalde/analytics/raw/master/wage1.csv\")\n",
    "bd.head()"
   ]
  },
  {
   "cell_type": "markdown",
   "metadata": {},
   "source": [
    "Vamos montar um modelo que investiga o logaritmo natural da renda média por hora (`wage`) como função de anos de escolaridade (`educ`), anos de experiência profissional (`exper`) e tempo de permanência no trabalho (`tenure`)."
   ]
  },
  {
   "cell_type": "code",
   "execution_count": 4,
   "metadata": {},
   "outputs": [
    {
     "data": {
      "image/png": "[encoded data removed]",
      "text/plain": [
       "<Figure size 432x288 with 1 Axes>"
      ]
     },
     "metadata": {
      "needs_background": "light"
     },
     "output_type": "display_data"
    }
   ],
   "source": [
    "plt.hist(bd.wage)\n",
    "plt.show()"
   ]
  },
  {
   "cell_type": "code",
   "execution_count": 5,
   "metadata": {},
   "outputs": [
    {
     "data": {
      "image/png": "[encoded data removed]",
      "text/plain": [
       "<Figure size 432x288 with 1 Axes>"
      ]
     },
     "metadata": {
      "needs_background": "light"
     },
     "output_type": "display_data"
    }
   ],
   "source": [
    "plt.hist(np.log(bd.wage))\n",
    "plt.show()"
   ]
  },
  {
   "cell_type": "code",
   "execution_count": 12,
   "metadata": {},
   "outputs": [
    {
     "data": {
      "text/plain": [
       "(array([  1.,   0.,   5.,  14., 151., 133., 109.,  71.,  27.,  15.]),\n",
       " array([-0.63487833, -0.24958295,  0.13571244,  0.52100782,  0.9063032 ,\n",
       "         1.29159858,  1.67689396,  2.06218934,  2.44748472,  2.83278011,\n",
       "         3.21807549]),\n",
       " <a list of 10 Patch objects>)"
      ]
     },
     "execution_count": 12,
     "metadata": {},
     "output_type": "execute_result"
    },
    {
     "data": {
      "image/png": "[encoded data removed]",
      "text/plain": [
       "<Figure size 432x288 with 1 Axes>"
      ]
     },
     "metadata": {
      "needs_background": "light"
     },
     "output_type": "display_data"
    }
   ],
   "source": [
    "bd['lnwage'] = np.log(bd.wage)\n",
    "plt.hist(bd.lnwage)"
   ]
  },
  {
   "cell_type": "code",
   "execution_count": 13,
   "metadata": {},
   "outputs": [
    {
     "data": {
      "text/plain": [
       "Index(['wage', 'educ', 'exper', 'tenure', 'nonwhite', 'female', 'married',\n",
       "       'numdep', 'smsa', 'northcen', 'south', 'west', 'construc', 'ndurman',\n",
       "       'trcommpu', 'trade', 'services', 'profserv', 'profocc', 'clerocc',\n",
       "       'servocc', 'lwage', 'expersq', 'tenursq', 'lnwage'],\n",
       "      dtype='object')"
      ]
     },
     "execution_count": 13,
     "metadata": {},
     "output_type": "execute_result"
    }
   ],
   "source": [
    "bd.columns"
   ]
  },
  {
   "cell_type": "code",
   "execution_count": 14,
   "metadata": {},
   "outputs": [
    {
     "name": "stdout",
     "output_type": "stream",
     "text": [
      "                            OLS Regression Results                            \n",
      "==============================================================================\n",
      "Dep. Variable:                 lnwage   R-squared:                       0.316\n",
      "Model:                            OLS   Adj. R-squared:                  0.312\n",
      "Method:                 Least Squares   F-statistic:                     80.39\n",
      "Date:                Wed, 02 Oct 2019   Prob (F-statistic):           9.13e-43\n",
      "Time:                        10:35:25   Log-Likelihood:                -313.55\n",
      "No. Observations:                 526   AIC:                             635.1\n",
      "Df Residuals:                     522   BIC:                             652.2\n",
      "Df Model:                           3                                         \n",
      "Covariance Type:            nonrobust                                         \n",
      "==============================================================================\n",
      "                 coef    std err          t      P>|t|      [0.025      0.975]\n",
      "------------------------------------------------------------------------------\n",
      "Intercept      0.2844      0.104      2.729      0.007       0.080       0.489\n",
      "educ           0.0920      0.007     12.555      0.000       0.078       0.106\n",
      "exper          0.0041      0.002      2.391      0.017       0.001       0.008\n",
      "tenure         0.0221      0.003      7.133      0.000       0.016       0.028\n",
      "==============================================================================\n",
      "Omnibus:                       11.534   Durbin-Watson:                   1.769\n",
      "Prob(Omnibus):                  0.003   Jarque-Bera (JB):               20.941\n",
      "Skew:                           0.021   Prob(JB):                     2.84e-05\n",
      "Kurtosis:                       3.977   Cond. No.                         135.\n",
      "==============================================================================\n",
      "\n",
      "Warnings:\n",
      "[1] Standard Errors assume that the covariance matrix of the errors is correctly specified.\n"
     ]
    }
   ],
   "source": [
    "fit = sm.ols(formula='lnwage ~ educ + exper + tenure', data=bd).fit()\n",
    "print(fit.summary())"
   ]
  },
  {
   "cell_type": "code",
   "execution_count": 15,
   "metadata": {},
   "outputs": [],
   "source": [
    "from sklearn.linear_model import LinearRegression\n",
    "from sklearn.metrics import mean_squared_error"
   ]
  },
  {
   "cell_type": "code",
   "execution_count": 17,
   "metadata": {},
   "outputs": [
    {
     "data": {
      "text/plain": [
       "0     -0.173519\n",
       "1     -0.347933\n",
       "2     -0.206308\n",
       "3     -0.028043\n",
       "4      0.206017\n",
       "         ...   \n",
       "521    0.849397\n",
       "522   -0.393112\n",
       "523   -0.574420\n",
       "524    0.648055\n",
       "525   -0.428877\n",
       "Length: 526, dtype: float64"
      ]
     },
     "execution_count": 17,
     "metadata": {},
     "output_type": "execute_result"
    }
   ],
   "source": [
    "residsm = fit.resid\n",
    "residsm"
   ]
  },
  {
   "cell_type": "code",
   "execution_count": 22,
   "metadata": {},
   "outputs": [
    {
     "name": "stdout",
     "output_type": "stream",
     "text": [
      "MSE com Stats Models: 0.1929\n"
     ]
    }
   ],
   "source": [
    "yhat = fit.predict()\n",
    "msesm = mean_squared_error(bd.lnwage, yhat)\n",
    "print('MSE com Stats Models: ' + str(round(msesm, 4)))"
   ]
  },
  {
   "cell_type": "code",
   "execution_count": 26,
   "metadata": {},
   "outputs": [
    {
     "data": {
      "text/plain": [
       "LinearRegression(copy_X=True, fit_intercept=True, n_jobs=None, normalize=False)"
      ]
     },
     "execution_count": 26,
     "metadata": {},
     "output_type": "execute_result"
    }
   ],
   "source": [
    "fit2 = LinearRegression()\n",
    "fit2.fit(bd[['educ', 'exper', 'tenure']], bd.lnwage)"
   ]
  },
  {
   "cell_type": "code",
   "execution_count": 28,
   "metadata": {},
   "outputs": [
    {
     "data": {
      "text/plain": [
       "Intercept    0.284360\n",
       "educ         0.092029\n",
       "exper        0.004121\n",
       "tenure       0.022067\n",
       "dtype: float64"
      ]
     },
     "execution_count": 28,
     "metadata": {},
     "output_type": "execute_result"
    }
   ],
   "source": [
    "fit.params"
   ]
  },
  {
   "cell_type": "code",
   "execution_count": 30,
   "metadata": {},
   "outputs": [
    {
     "name": "stdout",
     "output_type": "stream",
     "text": [
      "0.28435955523606093\n",
      "[0.09202899 0.00412111 0.02206722]\n"
     ]
    }
   ],
   "source": [
    "print(fit2.intercept_)\n",
    "print(fit2.coef_)"
   ]
  },
  {
   "cell_type": "code",
   "execution_count": 32,
   "metadata": {},
   "outputs": [
    {
     "name": "stdout",
     "output_type": "stream",
     "text": [
      "MSE com SKLearn: 0.1929\n"
     ]
    }
   ],
   "source": [
    "yhatsk = fit2.predict(bd[['educ', 'exper', 'tenure']])\n",
    "msesk = mean_squared_error(bd.lnwage, yhatsk)\n",
    "print('MSE com SKLearn: ' + str(round(msesk, 4)))"
   ]
  },
  {
   "cell_type": "markdown",
   "metadata": {},
   "source": [
    "Deu pra ver que fizemos a mesma coisa tanto com StatsModels quanto com SciKit Learn. Vamos fazer a mesma coisa com dados reais do Brasil, a PNAD\n",
    "\n",
    "## PNAD"
   ]
  },
  {
   "cell_type": "code",
   "execution_count": 46,
   "metadata": {},
   "outputs": [],
   "source": [
    "import pyreadstat"
   ]
  },
  {
   "cell_type": "code",
   "execution_count": 48,
   "metadata": {},
   "outputs": [],
   "source": [
    "df, meta = pyreadstat.read_sav(\"PNAD96_25a60_Modus.sav\")"
   ]
  },
  {
   "cell_type": "code",
   "execution_count": 49,
   "metadata": {},
   "outputs": [
    {
     "data": {
      "text/html": [
       "<div>\n",
       "<style scoped>\n",
       "    .dataframe tbody tr th:only-of-type {\n",
       "        vertical-align: middle;\n",
       "    }\n",
       "\n",
       "    .dataframe tbody tr th {\n",
       "        vertical-align: top;\n",
       "    }\n",
       "\n",
       "    .dataframe thead th {\n",
       "        text-align: right;\n",
       "    }\n",
       "</style>\n",
       "<table border=\"1\" class=\"dataframe\">\n",
       "  <thead>\n",
       "    <tr style=\"text-align: right;\">\n",
       "      <th></th>\n",
       "      <th>V0101</th>\n",
       "      <th>UF</th>\n",
       "      <th>V1217</th>\n",
       "      <th>V1219</th>\n",
       "      <th>V4703</th>\n",
       "      <th>V4704</th>\n",
       "      <th>V4705</th>\n",
       "      <th>V4706</th>\n",
       "      <th>V4707</th>\n",
       "      <th>V4708</th>\n",
       "      <th>...</th>\n",
       "      <th>nvs18</th>\n",
       "      <th>nvs18pai</th>\n",
       "      <th>idadecen</th>\n",
       "      <th>idadecen2</th>\n",
       "      <th>lnrenda</th>\n",
       "      <th>raçabin</th>\n",
       "      <th>raçaesco</th>\n",
       "      <th>migração</th>\n",
       "      <th>região</th>\n",
       "      <th>segmento</th>\n",
       "    </tr>\n",
       "  </thead>\n",
       "  <tbody>\n",
       "    <tr>\n",
       "      <td>0</td>\n",
       "      <td>96.0</td>\n",
       "      <td>12.0</td>\n",
       "      <td>1.0</td>\n",
       "      <td>1.0</td>\n",
       "      <td>1.0</td>\n",
       "      <td>1.0</td>\n",
       "      <td>1.0</td>\n",
       "      <td>4.0</td>\n",
       "      <td>5.0</td>\n",
       "      <td>2.0</td>\n",
       "      <td>...</td>\n",
       "      <td>8.0</td>\n",
       "      <td>18.0</td>\n",
       "      <td>2.851876</td>\n",
       "      <td>8.133197</td>\n",
       "      <td>4.718499</td>\n",
       "      <td>0.0</td>\n",
       "      <td>0.0</td>\n",
       "      <td>1.0</td>\n",
       "      <td>1.0</td>\n",
       "      <td>0.0</td>\n",
       "    </tr>\n",
       "    <tr>\n",
       "      <td>1</td>\n",
       "      <td>96.0</td>\n",
       "      <td>12.0</td>\n",
       "      <td>1.0</td>\n",
       "      <td>1.0</td>\n",
       "      <td>1.0</td>\n",
       "      <td>1.0</td>\n",
       "      <td>1.0</td>\n",
       "      <td>4.0</td>\n",
       "      <td>5.0</td>\n",
       "      <td>2.0</td>\n",
       "      <td>...</td>\n",
       "      <td>8.0</td>\n",
       "      <td>18.0</td>\n",
       "      <td>9.851876</td>\n",
       "      <td>97.059463</td>\n",
       "      <td>4.499810</td>\n",
       "      <td>1.0</td>\n",
       "      <td>0.0</td>\n",
       "      <td>0.0</td>\n",
       "      <td>1.0</td>\n",
       "      <td>0.0</td>\n",
       "    </tr>\n",
       "    <tr>\n",
       "      <td>2</td>\n",
       "      <td>96.0</td>\n",
       "      <td>12.0</td>\n",
       "      <td>2.0</td>\n",
       "      <td>1.0</td>\n",
       "      <td>13.0</td>\n",
       "      <td>1.0</td>\n",
       "      <td>1.0</td>\n",
       "      <td>1.0</td>\n",
       "      <td>5.0</td>\n",
       "      <td>2.0</td>\n",
       "      <td>...</td>\n",
       "      <td>8.0</td>\n",
       "      <td>11.0</td>\n",
       "      <td>-9.148124</td>\n",
       "      <td>83.688171</td>\n",
       "      <td>5.010635</td>\n",
       "      <td>1.0</td>\n",
       "      <td>12.0</td>\n",
       "      <td>1.0</td>\n",
       "      <td>1.0</td>\n",
       "      <td>1.0</td>\n",
       "    </tr>\n",
       "    <tr>\n",
       "      <td>3</td>\n",
       "      <td>96.0</td>\n",
       "      <td>12.0</td>\n",
       "      <td>3.0</td>\n",
       "      <td>1.0</td>\n",
       "      <td>12.0</td>\n",
       "      <td>1.0</td>\n",
       "      <td>1.0</td>\n",
       "      <td>1.0</td>\n",
       "      <td>3.0</td>\n",
       "      <td>2.0</td>\n",
       "      <td>...</td>\n",
       "      <td>8.0</td>\n",
       "      <td>12.0</td>\n",
       "      <td>-14.148124</td>\n",
       "      <td>200.169410</td>\n",
       "      <td>5.743003</td>\n",
       "      <td>0.0</td>\n",
       "      <td>0.0</td>\n",
       "      <td>0.0</td>\n",
       "      <td>1.0</td>\n",
       "      <td>1.0</td>\n",
       "    </tr>\n",
       "    <tr>\n",
       "      <td>4</td>\n",
       "      <td>96.0</td>\n",
       "      <td>12.0</td>\n",
       "      <td>1.0</td>\n",
       "      <td>1.0</td>\n",
       "      <td>9.0</td>\n",
       "      <td>1.0</td>\n",
       "      <td>1.0</td>\n",
       "      <td>4.0</td>\n",
       "      <td>2.0</td>\n",
       "      <td>2.0</td>\n",
       "      <td>...</td>\n",
       "      <td>8.0</td>\n",
       "      <td>18.0</td>\n",
       "      <td>9.851876</td>\n",
       "      <td>97.059463</td>\n",
       "      <td>4.718499</td>\n",
       "      <td>0.0</td>\n",
       "      <td>0.0</td>\n",
       "      <td>1.0</td>\n",
       "      <td>1.0</td>\n",
       "      <td>0.0</td>\n",
       "    </tr>\n",
       "  </tbody>\n",
       "</table>\n",
       "<p>5 rows × 34 columns</p>\n",
       "</div>"
      ],
      "text/plain": [
       "   V0101    UF  V1217  V1219  V4703  V4704  V4705  V4706  V4707  V4708  ...  \\\n",
       "0   96.0  12.0    1.0    1.0    1.0    1.0    1.0    4.0    5.0    2.0  ...   \n",
       "1   96.0  12.0    1.0    1.0    1.0    1.0    1.0    4.0    5.0    2.0  ...   \n",
       "2   96.0  12.0    2.0    1.0   13.0    1.0    1.0    1.0    5.0    2.0  ...   \n",
       "3   96.0  12.0    3.0    1.0   12.0    1.0    1.0    1.0    3.0    2.0  ...   \n",
       "4   96.0  12.0    1.0    1.0    9.0    1.0    1.0    4.0    2.0    2.0  ...   \n",
       "\n",
       "   nvs18  nvs18pai   idadecen   idadecen2   lnrenda  raçabin  raçaesco  \\\n",
       "0    8.0      18.0   2.851876    8.133197  4.718499      0.0       0.0   \n",
       "1    8.0      18.0   9.851876   97.059463  4.499810      1.0       0.0   \n",
       "2    8.0      11.0  -9.148124   83.688171  5.010635      1.0      12.0   \n",
       "3    8.0      12.0 -14.148124  200.169410  5.743003      0.0       0.0   \n",
       "4    8.0      18.0   9.851876   97.059463  4.718499      0.0       0.0   \n",
       "\n",
       "   migração  região  segmento  \n",
       "0       1.0     1.0       0.0  \n",
       "1       0.0     1.0       0.0  \n",
       "2       1.0     1.0       1.0  \n",
       "3       0.0     1.0       1.0  \n",
       "4       1.0     1.0       0.0  \n",
       "\n",
       "[5 rows x 34 columns]"
      ]
     },
     "execution_count": 49,
     "metadata": {},
     "output_type": "execute_result"
    }
   ],
   "source": [
    "df.head()"
   ]
  },
  {
   "cell_type": "code",
   "execution_count": 50,
   "metadata": {},
   "outputs": [
    {
     "data": {
      "text/plain": [
       "(36932, 34)"
      ]
     },
     "execution_count": 50,
     "metadata": {},
     "output_type": "execute_result"
    }
   ],
   "source": [
    "df.shape"
   ]
  },
  {
   "cell_type": "code",
   "execution_count": 51,
   "metadata": {},
   "outputs": [
    {
     "data": {
      "text/plain": [
       "Index(['V0101', 'UF', 'V1217', 'V1219', 'V4703', 'V4704', 'V4705', 'V4706',\n",
       "       'V4707', 'V4708', 'V4709', 'V4710', 'V4711', 'V4718', 'V4719', 'V4720',\n",
       "       'anosesco', 'isei88', 'iseipai', 'egp12pai', 'egp12', 'egps', 'egpspai',\n",
       "       'trei88', 'nvs18', 'nvs18pai', 'idadecen', 'idadecen2', 'lnrenda',\n",
       "       'raçabin', 'raçaesco', 'migração', 'região', 'segmento'],\n",
       "      dtype='object')"
      ]
     },
     "execution_count": 51,
     "metadata": {},
     "output_type": "execute_result"
    }
   ],
   "source": [
    "df.columns"
   ]
  },
  {
   "cell_type": "markdown",
   "metadata": {},
   "source": [
    "Agora, vamos verificar a renda das pessoas em 1996:"
   ]
  },
  {
   "cell_type": "code",
   "execution_count": 52,
   "metadata": {},
   "outputs": [
    {
     "data": {
      "text/plain": [
       "count    36932.000000\n",
       "mean       699.324867\n",
       "std       1134.165071\n",
       "min          2.000000\n",
       "25%        200.000000\n",
       "50%        360.000000\n",
       "75%        770.000000\n",
       "max      50000.000000\n",
       "Name: renda, dtype: float64"
      ]
     },
     "execution_count": 52,
     "metadata": {},
     "output_type": "execute_result"
    }
   ],
   "source": [
    "df['renda'] = np.exp(df.lnrenda)\n",
    "df.renda.describe()"
   ]
  },
  {
   "cell_type": "code",
   "execution_count": 55,
   "metadata": {},
   "outputs": [
    {
     "data": {
      "text/plain": [
       "(array([3.5959e+04, 7.9500e+02, 1.3600e+02, 1.1000e+01, 1.5000e+01,\n",
       "        1.2000e+01, 1.0000e+00, 0.0000e+00, 1.0000e+00, 0.0000e+00,\n",
       "        0.0000e+00, 1.0000e+00, 0.0000e+00, 0.0000e+00, 1.0000e+00]),\n",
       " array([2.00000e+00, 3.33520e+03, 6.66840e+03, 1.00016e+04, 1.33348e+04,\n",
       "        1.66680e+04, 2.00012e+04, 2.33344e+04, 2.66676e+04, 3.00008e+04,\n",
       "        3.33340e+04, 3.66672e+04, 4.00004e+04, 4.33336e+04, 4.66668e+04,\n",
       "        5.00000e+04]),\n",
       " <a list of 15 Patch objects>)"
      ]
     },
     "execution_count": 55,
     "metadata": {},
     "output_type": "execute_result"
    },
    {
     "data": {
      "image/png": "[encoded data removed]",
      "text/plain": [
       "<Figure size 432x288 with 1 Axes>"
      ]
     },
     "metadata": {
      "needs_background": "light"
     },
     "output_type": "display_data"
    }
   ],
   "source": [
    "plt.hist(df.renda, bins=15)"
   ]
  },
  {
   "cell_type": "code",
   "execution_count": 58,
   "metadata": {},
   "outputs": [
    {
     "data": {
      "text/plain": [
       "(array([2.000e+00, 5.000e+00, 4.400e+01, 1.200e+02, 6.680e+02, 3.815e+03,\n",
       "        7.162e+03, 9.291e+03, 7.998e+03, 4.533e+03, 2.322e+03, 7.940e+02,\n",
       "        1.460e+02, 2.900e+01, 3.000e+00]),\n",
       " array([ 0.69314718,  1.36825592,  2.04336466,  2.7184734 ,  3.39358214,\n",
       "         4.06869088,  4.74379962,  5.41890836,  6.0940171 ,  6.76912584,\n",
       "         7.44423458,  8.11934332,  8.79445206,  9.4695608 , 10.14466954,\n",
       "        10.81977828]),\n",
       " <a list of 15 Patch objects>)"
      ]
     },
     "execution_count": 58,
     "metadata": {},
     "output_type": "execute_result"
    },
    {
     "data": {
      "image/png": "[encoded data removed]",
      "text/plain": [
       "<Figure size 432x288 with 1 Axes>"
      ]
     },
     "metadata": {
      "needs_background": "light"
     },
     "output_type": "display_data"
    }
   ],
   "source": [
    "plt.hist(df.lnrenda, bins=15)"
   ]
  },
  {
   "cell_type": "code",
   "execution_count": 59,
   "metadata": {},
   "outputs": [
    {
     "name": "stdout",
     "output_type": "stream",
     "text": [
      "                            OLS Regression Results                            \n",
      "==============================================================================\n",
      "Dep. Variable:                lnrenda   R-squared:                       0.492\n",
      "Model:                            OLS   Adj. R-squared:                  0.492\n",
      "Method:                 Least Squares   F-statistic:                     5971.\n",
      "Date:                Wed, 02 Oct 2019   Prob (F-statistic):               0.00\n",
      "Time:                        11:27:06   Log-Likelihood:                -41231.\n",
      "No. Observations:               36932   AIC:                         8.248e+04\n",
      "Df Residuals:                   36925   BIC:                         8.254e+04\n",
      "Df Model:                           6                                         \n",
      "Covariance Type:            nonrobust                                         \n",
      "==============================================================================\n",
      "                 coef    std err          t      P>|t|      [0.025      0.975]\n",
      "------------------------------------------------------------------------------\n",
      "Intercept      4.5835      0.011    411.537      0.000       4.562       4.605\n",
      "anosesco       0.0854      0.001     70.012      0.000       0.083       0.088\n",
      "idadecen       0.0101      0.000     22.818      0.000       0.009       0.011\n",
      "idadecen2     -0.0008   4.44e-05    -17.611      0.000      -0.001      -0.001\n",
      "isei88         0.0189      0.000     59.802      0.000       0.018       0.020\n",
      "iseipai        0.0048      0.000     15.606      0.000       0.004       0.005\n",
      "raçabin        0.2832      0.008     35.072      0.000       0.267       0.299\n",
      "==============================================================================\n",
      "Omnibus:                      819.179   Durbin-Watson:                   1.582\n",
      "Prob(Omnibus):                  0.000   Jarque-Bera (JB):             1858.328\n",
      "Skew:                           0.036   Prob(JB):                         0.00\n",
      "Kurtosis:                       4.097   Cond. No.                         380.\n",
      "==============================================================================\n",
      "\n",
      "Warnings:\n",
      "[1] Standard Errors assume that the covariance matrix of the errors is correctly specified.\n"
     ]
    }
   ],
   "source": [
    "fit3 = sm.ols(formula='lnrenda ~ anosesco + idadecen + idadecen2 + isei88 + iseipai + raçabin', data=df).fit()\n",
    "print(fit3.summary())"
   ]
  },
  {
   "cell_type": "code",
   "execution_count": 60,
   "metadata": {},
   "outputs": [
    {
     "name": "stdout",
     "output_type": "stream",
     "text": [
      "MSE com Stats Models: 0.546\n"
     ]
    }
   ],
   "source": [
    "yhat3 = fit3.predict()\n",
    "msesm = mean_squared_error(df.lnrenda, yhat3)\n",
    "print('MSE com Stats Models: ' + str(round(msesm, 4)))"
   ]
  },
  {
   "cell_type": "code",
   "execution_count": 61,
   "metadata": {},
   "outputs": [
    {
     "name": "stdout",
     "output_type": "stream",
     "text": [
      "Tamanho antes de excluir missings:  36932\n",
      "Tamanho depois de excluir missings:  36932\n"
     ]
    }
   ],
   "source": [
    "varint = df[['lnrenda',  'anosesco', 'idadecen', 'idadecen2', 'isei88', 'iseipai', 'raçabin']]\n",
    "print('Tamanho antes de excluir missings: ', str(varint.shape[0]))\n",
    "varint = varint.dropna()\n",
    "print('Tamanho depois de excluir missings: ', str(varint.shape[0]))"
   ]
  },
  {
   "cell_type": "code",
   "execution_count": 62,
   "metadata": {},
   "outputs": [
    {
     "data": {
      "text/html": [
       "<div>\n",
       "<style scoped>\n",
       "    .dataframe tbody tr th:only-of-type {\n",
       "        vertical-align: middle;\n",
       "    }\n",
       "\n",
       "    .dataframe tbody tr th {\n",
       "        vertical-align: top;\n",
       "    }\n",
       "\n",
       "    .dataframe thead th {\n",
       "        text-align: right;\n",
       "    }\n",
       "</style>\n",
       "<table border=\"1\" class=\"dataframe\">\n",
       "  <thead>\n",
       "    <tr style=\"text-align: right;\">\n",
       "      <th></th>\n",
       "      <th>lnrenda</th>\n",
       "      <th>anosesco</th>\n",
       "      <th>idadecen</th>\n",
       "      <th>idadecen2</th>\n",
       "      <th>isei88</th>\n",
       "      <th>iseipai</th>\n",
       "      <th>raçabin</th>\n",
       "    </tr>\n",
       "  </thead>\n",
       "  <tbody>\n",
       "    <tr>\n",
       "      <td>count</td>\n",
       "      <td>36932.000000</td>\n",
       "      <td>36932.000000</td>\n",
       "      <td>36932.000000</td>\n",
       "      <td>36932.000000</td>\n",
       "      <td>36932.000000</td>\n",
       "      <td>36932.000000</td>\n",
       "      <td>36932.000000</td>\n",
       "    </tr>\n",
       "    <tr>\n",
       "      <td>mean</td>\n",
       "      <td>5.964443</td>\n",
       "      <td>5.979367</td>\n",
       "      <td>-0.136183</td>\n",
       "      <td>84.416351</td>\n",
       "      <td>34.335184</td>\n",
       "      <td>26.901332</td>\n",
       "      <td>0.567557</td>\n",
       "    </tr>\n",
       "    <tr>\n",
       "      <td>std</td>\n",
       "      <td>1.037242</td>\n",
       "      <td>4.546852</td>\n",
       "      <td>9.186952</td>\n",
       "      <td>90.310677</td>\n",
       "      <td>16.377788</td>\n",
       "      <td>14.723057</td>\n",
       "      <td>0.495422</td>\n",
       "    </tr>\n",
       "    <tr>\n",
       "      <td>min</td>\n",
       "      <td>0.693147</td>\n",
       "      <td>0.000000</td>\n",
       "      <td>-15.148124</td>\n",
       "      <td>0.021941</td>\n",
       "      <td>16.000000</td>\n",
       "      <td>16.000000</td>\n",
       "      <td>0.000000</td>\n",
       "    </tr>\n",
       "    <tr>\n",
       "      <td>25%</td>\n",
       "      <td>5.298317</td>\n",
       "      <td>3.000000</td>\n",
       "      <td>-8.148124</td>\n",
       "      <td>14.836949</td>\n",
       "      <td>25.000000</td>\n",
       "      <td>17.000000</td>\n",
       "      <td>0.000000</td>\n",
       "    </tr>\n",
       "    <tr>\n",
       "      <td>50%</td>\n",
       "      <td>5.886104</td>\n",
       "      <td>5.000000</td>\n",
       "      <td>-1.148124</td>\n",
       "      <td>51.095675</td>\n",
       "      <td>29.000000</td>\n",
       "      <td>17.000000</td>\n",
       "      <td>1.000000</td>\n",
       "    </tr>\n",
       "    <tr>\n",
       "      <td>75%</td>\n",
       "      <td>6.646391</td>\n",
       "      <td>10.000000</td>\n",
       "      <td>6.851876</td>\n",
       "      <td>124.280667</td>\n",
       "      <td>43.000000</td>\n",
       "      <td>30.000000</td>\n",
       "      <td>1.000000</td>\n",
       "    </tr>\n",
       "    <tr>\n",
       "      <td>max</td>\n",
       "      <td>10.819778</td>\n",
       "      <td>16.000000</td>\n",
       "      <td>19.851876</td>\n",
       "      <td>394.096985</td>\n",
       "      <td>90.000000</td>\n",
       "      <td>90.000000</td>\n",
       "      <td>1.000000</td>\n",
       "    </tr>\n",
       "  </tbody>\n",
       "</table>\n",
       "</div>"
      ],
      "text/plain": [
       "            lnrenda      anosesco      idadecen     idadecen2        isei88  \\\n",
       "count  36932.000000  36932.000000  36932.000000  36932.000000  36932.000000   \n",
       "mean       5.964443      5.979367     -0.136183     84.416351     34.335184   \n",
       "std        1.037242      4.546852      9.186952     90.310677     16.377788   \n",
       "min        0.693147      0.000000    -15.148124      0.021941     16.000000   \n",
       "25%        5.298317      3.000000     -8.148124     14.836949     25.000000   \n",
       "50%        5.886104      5.000000     -1.148124     51.095675     29.000000   \n",
       "75%        6.646391     10.000000      6.851876    124.280667     43.000000   \n",
       "max       10.819778     16.000000     19.851876    394.096985     90.000000   \n",
       "\n",
       "            iseipai       raçabin  \n",
       "count  36932.000000  36932.000000  \n",
       "mean      26.901332      0.567557  \n",
       "std       14.723057      0.495422  \n",
       "min       16.000000      0.000000  \n",
       "25%       17.000000      0.000000  \n",
       "50%       17.000000      1.000000  \n",
       "75%       30.000000      1.000000  \n",
       "max       90.000000      1.000000  "
      ]
     },
     "execution_count": 62,
     "metadata": {},
     "output_type": "execute_result"
    }
   ],
   "source": [
    "varint.describe()"
   ]
  },
  {
   "cell_type": "code",
   "execution_count": 64,
   "metadata": {},
   "outputs": [
    {
     "data": {
      "text/plain": [
       "Index(['anosesco', 'idadecen', 'idadecen2', 'isei88', 'iseipai', 'raçabin'], dtype='object')"
      ]
     },
     "execution_count": 64,
     "metadata": {},
     "output_type": "execute_result"
    }
   ],
   "source": [
    "y = df.lnrenda\n",
    "X = varint.drop(columns = ['lnrenda'])\n",
    "X.columns"
   ]
  },
  {
   "cell_type": "code",
   "execution_count": 65,
   "metadata": {},
   "outputs": [
    {
     "data": {
      "text/plain": [
       "Intercept    4.583487\n",
       "anosesco     0.085402\n",
       "idadecen     0.010114\n",
       "idadecen2   -0.000783\n",
       "isei88       0.018891\n",
       "iseipai      0.004773\n",
       "raçabin      0.283206\n",
       "dtype: float64"
      ]
     },
     "execution_count": 65,
     "metadata": {},
     "output_type": "execute_result"
    }
   ],
   "source": [
    "fit3.params"
   ]
  },
  {
   "cell_type": "code",
   "execution_count": 67,
   "metadata": {},
   "outputs": [
    {
     "name": "stdout",
     "output_type": "stream",
     "text": [
      "4.583487096858624\n",
      "[ 0.08540189  0.0101143  -0.00078263  0.01889053  0.00477321  0.2832063 ]\n"
     ]
    }
   ],
   "source": [
    "fit4 = LinearRegression()\n",
    "fit4.fit(X, y)\n",
    "print(fit4.intercept_)\n",
    "print(fit4.coef_)"
   ]
  },
  {
   "cell_type": "code",
   "execution_count": 68,
   "metadata": {},
   "outputs": [
    {
     "name": "stdout",
     "output_type": "stream",
     "text": [
      "MSE com SKLearn: 0.546\n"
     ]
    }
   ],
   "source": [
    "yhat4 = fit4.predict(X)\n",
    "msesk = mean_squared_error(df.lnrenda, yhat4)\n",
    "print('MSE com SKLearn: ' + str(round(msesk, 4)))"
   ]
  }
 ],
 "metadata": {
  "kernelspec": {
   "display_name": "Python 3",
   "language": "python",
   "name": "python3"
  },
  "language_info": {
   "codemirror_mode": {
    "name": "ipython",
    "version": 3
   },
   "file_extension": ".py",
   "mimetype": "text/x-python",
   "name": "python",
   "nbconvert_exporter": "python",
   "pygments_lexer": "ipython3",
   "version": "3.7.3"
  }
 },
 "nbformat": 4,
 "nbformat_minor": 4
}
